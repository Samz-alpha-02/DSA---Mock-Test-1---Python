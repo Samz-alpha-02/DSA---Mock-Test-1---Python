{
  "nbformat": 4,
  "nbformat_minor": 0,
  "metadata": {
    "colab": {
      "provenance": []
    },
    "kernelspec": {
      "name": "python3",
      "display_name": "Python 3"
    },
    "language_info": {
      "name": "python"
    }
  },
  "cells": [
    {
      "cell_type": "code",
      "execution_count": 19,
      "metadata": {
        "colab": {
          "base_uri": "https://localhost:8080/"
        },
        "id": "SuEc4FurTAbq",
        "outputId": "04275159-accb-481e-91f2-ddc8fb546601"
      },
      "outputs": [
        {
          "output_type": "stream",
          "name": "stdout",
          "text": [
            "[1, 3, 12, 7, 9, 34, 45, 0, 0, 0, 0, 0]\n",
            "[1, 3, 12, 0, 0]\n",
            "[0]\n"
          ]
        }
      ],
      "source": [
        "#Q1\n",
        "def Move_Zeroes(data):\n",
        "  n = len(data)\n",
        "  zero_count = data.count(0)\n",
        "  k=0\n",
        "  for i in range(n):\n",
        "    if data[i]!=0:\n",
        "      data[k]=data[i]\n",
        "      k+=1\n",
        "  for i in range(k,n):\n",
        "    data[i]=0\n",
        "  return data\n",
        "\n",
        "\n",
        "data1 = [0,1,0,3,12,0,7,9,0,34,0,45]\n",
        "data2 = [0,1,0,3,12]\n",
        "data3 = [0]\n",
        "a = Move_Zeroes(data1)\n",
        "b = Move_Zeroes(data2)\n",
        "c = Move_Zeroes(data3)\n",
        "print(a)\n",
        "print(b)\n",
        "print(c)"
      ]
    },
    {
      "cell_type": "code",
      "source": [],
      "metadata": {
        "id": "lJ6sbRJRba5b"
      },
      "execution_count": null,
      "outputs": []
    },
    {
      "cell_type": "code",
      "source": [
        "#Q2\n",
        "def firstUniqChar(s):\n",
        "    char_count = {}\n",
        "    n = len(s)\n",
        "\n",
        "    # Count the occurrences of each character\n",
        "    for i in range(n):\n",
        "        if s[i] in char_count:\n",
        "            char_count[s[i]] += 1\n",
        "        else:\n",
        "            char_count[s[i]] = 1\n",
        "\n",
        "    print(char_count)\n",
        "\n",
        "    # Find the index of the first non-repeating character\n",
        "    for i in range(n):\n",
        "        if char_count[s[i]] == 1:\n",
        "            return i\n",
        "\n",
        "    # If no non-repeating character is found, return -1\n",
        "    return -1\n",
        "\n",
        "s1 = \"leetcode\"\n",
        "s2 = \"loveleetcode\"\n",
        "s3 = \"aabb\"\n",
        "result1 = firstUniqChar(s1)\n",
        "print(result1)\n",
        "result2 = firstUniqChar(s2)\n",
        "print(result2)\n",
        "result3 = firstUniqChar(s3)\n",
        "print(result3)\n",
        "\n"
      ],
      "metadata": {
        "colab": {
          "base_uri": "https://localhost:8080/"
        },
        "id": "y02h_xH6beLp",
        "outputId": "236eaf05-6bee-49d7-e69c-e73b07b20915"
      },
      "execution_count": 33,
      "outputs": [
        {
          "output_type": "stream",
          "name": "stdout",
          "text": [
            "{'l': 1, 'e': 3, 't': 1, 'c': 1, 'o': 1, 'd': 1}\n",
            "0\n",
            "{'l': 2, 'o': 2, 'v': 1, 'e': 4, 't': 1, 'c': 1, 'd': 1}\n",
            "2\n",
            "{'a': 2, 'b': 2}\n",
            "-1\n"
          ]
        }
      ]
    }
  ]
}